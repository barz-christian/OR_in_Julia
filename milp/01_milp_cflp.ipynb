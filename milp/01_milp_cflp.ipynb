{
 "cells": [
  {
   "cell_type": "raw",
   "id": "f27e2d7b-3fdb-4095-8d23-0c980a6e20c0",
   "metadata": {},
   "source": [
    "---\n",
    "title: Capacitated facility location problem solved by custom branching and selection rules\n",
    "jupyter: julia-1.11\n",
    "---"
   ]
  },
  {
   "cell_type": "markdown",
   "id": "af97cea8-9ea3-4856-a63c-2151ee85084d",
   "metadata": {},
   "source": [
    "\n",
    "We show how to solve a capacitated facility location problem (CFLP) in Julia using a MILP-Solver and how to use solver dependent callbacks to implement a custom branching and selection rule for GLPK.\n",
    "\n",
    "In order to keep our example simple we choosed a classical branching rule - namely \"branch on the most fractional variable\" - which is often part of a MILP-Solver-implementation."
   ]
  },
  {
   "cell_type": "markdown",
   "id": "9d36238c-f844-45b6-85b4-51afe494dcc8",
   "metadata": {},
   "source": [
    "## Problem statement - capacitated facility location problem\n",
    "\n",
    "A company must select a subset of potential facility locations to minimize total cost associated with opening facilities and servicing customers. Each costumer has a specific demand and each facility has a fixed opening costs, a specific capacity and service costs based on the distance to customers.\n"
   ]
  },
  {
   "cell_type": "markdown",
   "id": "36fd8ded-8418-4f86-a745-087e2d5f748d",
   "metadata": {},
   "source": [
    "## Mathematical model\n",
    "\n",
    "First we list the the given information before we write down the model in a more mathematical way \n",
    "\n",
    "### Sets\n",
    "\n",
    "- $C=\\{1,\\ldots,n\\}$ of clients\n",
    "- $J=\\{1,\\ldots,m\\}$ of potential facilities\n",
    "\n",
    "### Parameter\n",
    "\n",
    "- $c_j^f$ fixed costs for opening facility $j$\n",
    "- $c_{ij}^v$ variable costs for transporting goods from facility $j$ to client $i$\n",
    "- $d_i$ demand of client $i$\n",
    "- $q_j$ facility capacity\n",
    "\n",
    "### Decision variables\n",
    "\n",
    "- $y_i$, binary, 1 iff facility $j$ is used\n",
    "- $x_{ij}$, real, demand of client $i$ which is served by facility $j$\n",
    "\n",
    "### Objective\n",
    "\n",
    "Minimize the sum of fix and variable costs:\n",
    "\n",
    "$$\n",
    "\\min \\sum_j c^f_j y_j + \\sum_{ij} c_{ij}^v x_{ij}\n",
    "$$\n",
    "\n",
    "### Constraints\n",
    "\n",
    "- (c1) Each client's demand is served:\n",
    "\n",
    "$$\n",
    "\\sum_j x_{ij} = d_i, \\; \\forall i \\in C\n",
    "$$\n",
    "\n",
    "- (c2) A facility can only serve a client if its open:\n",
    "\n",
    "$$\n",
    "x_{ij} \\leq d_i y_j, \\forall i\\in C, \\forall j \\in J\n",
    "$$\n",
    "\n",
    "- (c3) Capacity constraint\n",
    "\n",
    "$$\n",
    "\\sum_i x_{ij} \\leq q_j y_j, \\forall j \\in J\n",
    "$$"
   ]
  },
  {
   "cell_type": "markdown",
   "id": "a090ee5e-89dc-4307-b8b9-f5f9c159c719",
   "metadata": {},
   "source": [
    "#### MILP Formulation\n",
    "\n",
    "$$\n",
    "\\begin{array}{lll}\n",
    "\\min & \\sum_j c_j^f\\cdot y_j + \\sum_{ij} c_{ij}^v \\cdot x_{ij} &\\\\\n",
    "s.t. & \\sum_j x_{ij} = d_i, & \\forall i \\in C \\\\\n",
    "     & x_{ij} \\leq d_i y_j, & \\forall i \\in C, \\forall j \\in J \\\\\n",
    "     & \\sum_i x_{ij} \\leq q_j y_j & \\forall j\\in J \\\\\n",
    "     & y_j \\in \\{ 0,1 \\}, & \\forall j\\in J\\\\\n",
    "     & x_{ij} \\in [0,d_i], & \\forall i\\in C, \\forall j\\in J\n",
    "\\end{array}\n",
    "$$"
   ]
  },
  {
   "cell_type": "markdown",
   "id": "0455aefe-5bd2-4ddd-9cf9-55e441a584f0",
   "metadata": {},
   "source": [
    "## A simple branching and selection strategy\n",
    "\n",
    "For the simplicity of the example we implement the following branching/selection strategy:\n",
    "1. branch on the most fractional variable\n",
    "\n",
    "$$\\arg\\max \\{|y_j - 0.5| \\forall j \\in J\\}$$\n",
    "   \n",
    "3. and select\n",
    "   1. if $y_j - 0.5 < 0$: down-branch and\n",
    "   1. if $y_j - 0.5 > 0$:  up-branch.[^1]\n",
    "\n",
    "\n",
    "### Remarks on branching and selection\n",
    "\n",
    "1. We remark that using the most fractional value as branching criteria is a common technique, which is also often implemented in solver. But we precisely choosed the criteria to on the one hand keep the example simple and one the other hand be able to test our implementation against existing ones.\n",
    "2. There is no deeper reasoning behind the selection rule and we have choosen it just to keep the example simple.\n",
    "3. In order to modify the example, you need to know the options for GLPK. They are comprehensively documented in the [PDF documentation](https://github.com/jump-dev/GLPK.jl/files/11143880/glpk.pdf).\n",
    "\n",
    "[^1]: for the precise definition of up- and down-branch see section 5.2.9 in the [GLPK documentation](https://github.com/jump-dev/GLPK.jl/files/11143880/glpk.pdf)"
   ]
  },
  {
   "cell_type": "code",
   "execution_count": 1,
   "id": "72a8bc33-4f70-4c25-bde7-2960a029a190",
   "metadata": {},
   "outputs": [],
   "source": [
    "using JuMP\n",
    "import GLPK\n",
    "import Random\n",
    "import MathOptInterface as MOI\n",
    "\n",
    "using JLD2"
   ]
  },
  {
   "cell_type": "markdown",
   "id": "5a6239a9-1940-4bda-b512-19d27d34866a",
   "metadata": {},
   "source": [
    "## Julia implementation\n",
    "\n",
    "Before we look at an implemention of above model using Jump, let me briefly give you an overview on the full implementation\n",
    "\n",
    "1. A data structure holding the problem data\n",
    "1. a function to generate random problem data (for example to test the code)\n",
    "4. a simple output-function\n",
    "3. a function implementing the MILP (incl. custom branch and selection strategy)\n",
    "5. we modified the MILP to see when our custom branching and selection strategy was used."
   ]
  },
  {
   "cell_type": "markdown",
   "id": "e031cd08-46d4-4b8c-9ab2-a87e1e1168e2",
   "metadata": {},
   "source": [
    "### CFLP data structure\n",
    "\n",
    "We defined a data Data Structures `cflp_data` to hold the problem data."
   ]
  },
  {
   "cell_type": "code",
   "execution_count": 2,
   "id": "012bf5b3-c5cd-4d54-a544-9945931871e8",
   "metadata": {},
   "outputs": [],
   "source": [
    "include(\"SA_DataSturctures.jl\")"
   ]
  },
  {
   "cell_type": "markdown",
   "id": "5d492b97-b7c0-4bdb-a001-d3296669c07f",
   "metadata": {},
   "source": [
    "### IO \n",
    "\n",
    "We wrote two functions to simply generate random problem data and to visualize the found solution."
   ]
  },
  {
   "cell_type": "code",
   "execution_count": 3,
   "id": "b9ba67ef-004b-433c-ba47-be02f2376d72",
   "metadata": {},
   "outputs": [
    {
     "data": {
      "text/plain": [
       "print_solution (generic function with 2 methods)"
      ]
     },
     "execution_count": 3,
     "metadata": {},
     "output_type": "execute_result"
    }
   ],
   "source": [
    "include(\"IO.jl\")"
   ]
  },
  {
   "cell_type": "markdown",
   "id": "65e0a7e5-2bef-447b-a7b1-50f1eacbd619",
   "metadata": {},
   "source": [
    "## MILP model implementation with solver dependent callbacks"
   ]
  },
  {
   "cell_type": "code",
   "execution_count": 4,
   "id": "056721d8-399e-4446-b2e8-d51b1382d283",
   "metadata": {},
   "outputs": [
    {
     "data": {
      "text/plain": [
       "solve_cflp (generic function with 1 method)"
      ]
     },
     "execution_count": 4,
     "metadata": {},
     "output_type": "execute_result"
    }
   ],
   "source": [
    "function solve_cflp(data::cflp_data)\n",
    "    \"\"\"\n",
    "    solves uncapacitated facility location problem\n",
    "    \"\"\"\n",
    "\n",
    "    # instanciate model and set optimizer\n",
    "    model = Model()\n",
    "    set_optimizer(model, GLPK.Optimizer)\n",
    "\n",
    "    # vars\n",
    "    @variable(model, y[1:data.m], Bin) #open facilities\n",
    "    @variable(model, x[1:data.n, 1:data.m], lower_bound = 0) # demand of client i served by facility j\n",
    "\n",
    "    # objective\n",
    "    fix_cost = @expression(model, sum( data.cost_fix[j] * y[j] for j in 1:data.m))\n",
    "    var_cost = @expression(model, sum( data.cost_var[i,j] * x[i,j] for i in 1:data.n for j in 1:data.m))\n",
    "    @objective(model, Min, fix_cost + var_cost)\n",
    "\n",
    "    # constraints\n",
    "    ## fulfill demand\n",
    "    @constraint(model, c1[i in 1:data.n], sum(x[i,j] for j in 1:data.m) == data.demand[i])\n",
    "    ## clients are served by open facility only\n",
    "    @constraint(model, c2[i in 1:data.n, j in 1:data.m], x[i,j] <= data.demand[i] * y[j])\n",
    "    ## obey facility capacity\n",
    "    @constraint(model, c3[j in 1:data.m], sum(x[i,j] for i in 1:data.n) <= data.capacity[j] * y[j])\n",
    "    \n",
    "    function callback_function(cb_data)\n",
    "        # determine reason for calling the callback routine\n",
    "        reason = GLPK.glp_ios_reason(cb_data.tree)\n",
    "        # ignore reason unless request for branching\n",
    "        if reason != GLPK.GLP_IBRANCH\n",
    "            return\n",
    "        end\n",
    "        y_vals = callback_value.(Ref(cb_data), y)\n",
    "        # determinine most fractional value\n",
    "        most_frac = findmin([abs(y_j - 0.5) for y_j in y_vals])[2]\n",
    "        # check if we can branch upon specifed variable\n",
    "        can_branch = GLPK.glp_ios_can_branch(cb_data.tree, most_frac)\n",
    "        if can_branch != 0 && (y_vals[most_frac] - 0.5 < 0.0)\n",
    "            return GLPK.glp_ios_branch_upon(cb_data.tree, most_frac, GLPK.GLP_DN_BRNCH)\n",
    "        elseif can_branch != 0 && (y_vals[most_frac] - 0.5 > 0.0)\n",
    "            return GLPK.glp_ios_branch_upon(cb_data.tree, most_frac, GLPK.GLP_UP_BRNCH)\n",
    "        else\n",
    "            # leave decision to solver\n",
    "            return\n",
    "        end       \n",
    "    end\n",
    "    \n",
    "    MOI.set(model, GLPK.CallbackFunction(), callback_function)\n",
    "    \n",
    "    optimize!(model)\n",
    "\n",
    "    # test before return solution\n",
    "    if !is_solved_and_feasible(model)\n",
    "        return error(\"Solver did not found an optimal solution\")\n",
    "    end\n",
    "        \n",
    "    output = Dict(\n",
    "        \"objective value\" => objective_value(model),\n",
    "        \"facilities\" => value.(y),\n",
    "        \"assignment\" => value.(x)\n",
    "    )\n",
    "    \n",
    "    return output\n",
    "end"
   ]
  },
  {
   "cell_type": "markdown",
   "id": "d2af68dd-2dd3-4c2c-936c-8a2973e7388f",
   "metadata": {},
   "source": [
    "## Solve a simple CFLP\n",
    "\n",
    "The following problem data for a CFLP is taken from [Mathematical Optimization: Solving Problems using SCIP and Python](https://scipbook.readthedocs.io/en/latest/flp.html).\n",
    "\n",
    "Its so simple that one can easily derive an optimal solution by hand. Moreover its a good practice to test our implementation on well known instances."
   ]
  },
  {
   "cell_type": "code",
   "execution_count": 5,
   "id": "3ed763f5-0543-40f2-954c-0f99e505864b",
   "metadata": {},
   "outputs": [
    {
     "data": {
      "text/plain": [
       "cflp_data([1000.0, 1000.0, 1000.0], [9.0 6.0 4.0; 5.0 4.0 7.0; … ; 8.0 5.0 3.0; 10.0 8.0 4.0], [500, 500, 500], [80, 270, 250, 160, 180], 3, 5, 87.0, 11.0)"
      ]
     },
     "execution_count": 5,
     "metadata": {},
     "output_type": "execute_result"
    }
   ],
   "source": [
    "# use simple example data from SCIP docs\n",
    "d = [80, 270, 250, 160, 180];\n",
    "c_f = [1000.,1000.,1000.];\n",
    "c_v = [9. 6. 4.; 5. 4. 7.; 6. 3. 4.; 8. 5. 3.; 10. 8. 4.];\n",
    "q = [500,500,500]\n",
    "data = cflp_data(c_f,c_v,q,d)"
   ]
  },
  {
   "cell_type": "code",
   "execution_count": 6,
   "id": "740b84ee-8319-4f32-8f09-e6ce04fbac5e",
   "metadata": {},
   "outputs": [
    {
     "name": "stdout",
     "output_type": "stream",
     "text": [
      "Total cost are:5370.000000000006\n",
      "Open facilities:[2, 3]\n",
      "Assignment:\n",
      "customer   1 gets       80.000000 from facility   3\n",
      "customer   2 gets      270.000000 from facility   2\n",
      "customer   3 gets      230.000000 from facility   2\n",
      "customer   3 gets       20.000000 from facility   3\n",
      "customer   4 gets      160.000000 from facility   3\n",
      "customer   5 gets      180.000000 from facility   3\n"
     ]
    }
   ],
   "source": [
    "solution = solve_cflp(data)\n",
    "print_solution(solution)"
   ]
  },
  {
   "cell_type": "markdown",
   "id": "e01b27ad-fc16-4ae0-a775-d8725c10f057",
   "metadata": {},
   "source": [
    "## A more sophisticated CFLP\n",
    "\n",
    "Unfortunately the above example was so simple, that GLPK did not used our custom branching and selection rule.\n",
    "Hence we look at a more sophisticated example next, which we found while testing our implementation on randomly generated data.\n",
    "\n",
    "To visualize that our custom branching and selection rule was applied we added some `println` commands in our callback function:\n",
    "```\n",
    "        if can_branch != 0 && (y_vals[most_frac] - 0.5 < 0.0)\n",
    "            println(\"used down-branch\")\n",
    "            return GLPK.glp_ios_branch_upon(cb_data.tree, most_frac, GLPK.GLP_DN_BRNCH)\n",
    "        elseif can_branch != 0 && (y_vals[most_frac] - 0.5 > 0.0)\n",
    "            println(\"used up-branch\")\n",
    "            return GLPK.glp_ios_branch_upon(cb_data.tree, most_frac, GLPK.GLP_UP_BRNCH)\n",
    "```"
   ]
  },
  {
   "cell_type": "code",
   "execution_count": 7,
   "id": "0171e4ac-bff6-487d-bf24-8e4e4905385a",
   "metadata": {},
   "outputs": [
    {
     "data": {
      "text/plain": [
       "solve_cflp_println (generic function with 1 method)"
      ]
     },
     "execution_count": 7,
     "metadata": {},
     "output_type": "execute_result"
    }
   ],
   "source": [
    "function solve_cflp_println(data::cflp_data)\n",
    "    \"\"\"\n",
    "    solves uncapacitated facility location problem\n",
    "    \"\"\"\n",
    "    # derive parameter from data, i.e. \n",
    "    n = length(data.demand) # number of clients n \n",
    "    m = length(data.cost_fix) # number of facilities m\n",
    "\n",
    "    # instanciate model and set optimizer\n",
    "    model = Model()\n",
    "    set_optimizer(model, GLPK.Optimizer)\n",
    "\n",
    "    # vars\n",
    "    @variable(model, y[1:m], Bin) #open facilities\n",
    "    @variable(model, x[1:n, 1:m], lower_bound = 0) # demand of client i served by facility j\n",
    "\n",
    "    # objective\n",
    "    fix_cost = @expression(model, sum( data.cost_fix[j] * y[j] for j in 1:m))\n",
    "    var_cost = @expression(model, sum( data.cost_var[i,j] * x[i,j] for i in 1:n for j in 1:m))\n",
    "    @objective(model, Min, fix_cost + var_cost)\n",
    "\n",
    "    # constraints\n",
    "    ## fulfill demand\n",
    "    @constraint(model, c1[i in 1:n], sum(x[i,j] for j in 1:m) == data.demand[i])\n",
    "    ## clients are served by open facility only\n",
    "    @constraint(model, c2[i in 1:n, j in 1:m], x[i,j] <= data.demand[i] * y[j])\n",
    "    ## obey facility capacity\n",
    "    @constraint(model, c3[j in 1:m], sum(x[i,j] for i in 1:n) <= data.capacity[j] * y[j])\n",
    "    \n",
    "    function callback_function(cb_data)\n",
    "        # determine reason for calling the callback routine\n",
    "        reason = GLPK.glp_ios_reason(cb_data.tree)\n",
    "        # ignore reason unless request for branching\n",
    "        if reason != GLPK.GLP_IBRANCH\n",
    "            return\n",
    "        end\n",
    "        y_vals = callback_value.(Ref(cb_data), y)\n",
    "        # determinine most fractional value\n",
    "        most_frac = findmin([abs(y_j - 0.5) for y_j in y_vals])[2]\n",
    "        # check if we can branch upon specifed variable\n",
    "        can_branch = GLPK.glp_ios_can_branch(cb_data.tree, most_frac)\n",
    "        if can_branch != 0 && (y_vals[most_frac] - 0.5 < 0.0)\n",
    "            println(\"used down-branch\")\n",
    "            return GLPK.glp_ios_branch_upon(cb_data.tree, most_frac, GLPK.GLP_DN_BRNCH)\n",
    "        elseif can_branch != 0 && (y_vals[most_frac] - 0.5 > 0.0)\n",
    "            println(\"used up-branch\")\n",
    "            return GLPK.glp_ios_branch_upon(cb_data.tree, most_frac, GLPK.GLP_UP_BRNCH)\n",
    "        else\n",
    "            # leave decision to solver\n",
    "            return\n",
    "        end       \n",
    "    end\n",
    "    \n",
    "    MOI.set(model, GLPK.CallbackFunction(), callback_function)\n",
    "    \n",
    "    optimize!(model)\n",
    "\n",
    "    # test before return solution\n",
    "    if !is_solved_and_feasible(model)\n",
    "        return error(\"Solver did not found an optimal solution\")\n",
    "    end\n",
    "        \n",
    "    output = Dict(\n",
    "        \"objective value\" => objective_value(model),\n",
    "        \"facilities\" => value.(y),\n",
    "        \"assignment\" => value.(x)\n",
    "    )\n",
    "    \n",
    "    return output\n",
    "end"
   ]
  },
  {
   "cell_type": "markdown",
   "id": "e0c36cac-1ceb-447e-ad7f-8e609aab475e",
   "metadata": {},
   "source": [
    "For simplicity we just print the first 5 customer to facility allocations."
   ]
  },
  {
   "cell_type": "code",
   "execution_count": 8,
   "id": "a32ea1d7-ce38-47f1-a0d9-112558dba5f6",
   "metadata": {},
   "outputs": [
    {
     "name": "stdout",
     "output_type": "stream",
     "text": [
      "used up-branch\n",
      "used up-branch\n",
      "used up-branch\n",
      "used down-branch\n",
      "used down-branch\n",
      "used up-branch\n",
      "Total cost are:14277.130000000001\n",
      "Open facilities:[1, 3, 5, 6, 8, 9, 10, 11, 13]\n",
      "Assignment:\n",
      "customer   1 gets       18.000000 from facility   9\n",
      "customer   2 gets       21.000000 from facility  13\n",
      "customer   3 gets       12.000000 from facility  11\n",
      "customer   4 gets       14.000000 from facility   3\n",
      "customer   5 gets       18.000000 from facility  13\n"
     ]
    }
   ],
   "source": [
    "d = load(\"../data/data.jld2\")[\"data\"]\n",
    "rng_data = cflp_data(d[\"cost_fix\"], d[\"cost_var\"], d[\"capacity\"], d[\"demand\"])\n",
    "solution = solve_cflp_println(rng_data)\n",
    "print_solution(solution, true)"
   ]
  },
  {
   "cell_type": "markdown",
   "id": "0f9ab28f-7ddf-40d5-8dcb-a8f825c0467a",
   "metadata": {},
   "source": [
    "## Remarks on code improvements\n",
    "\n",
    "We like to refer to two sources [to improve the performance](https://jump.dev/JuMP.jl/stable/tutorials/getting_started/performance_tips/) and [to improve design the design for larger models](https://jump.dev/JuMP.jl/stable/tutorials/getting_started/design_patterns_for_larger_models/).\n",
    "\n",
    "In particular it would be benefitial to create a module in the long run, but as we wanted to show how to implement solver dependet callbacks in Julia, we decided not to do it."
   ]
  },
  {
   "cell_type": "code",
   "execution_count": null,
   "id": "5bc2749d-2ac3-47f9-8acf-f11df75b9a63",
   "metadata": {},
   "outputs": [],
   "source": []
  }
 ],
 "metadata": {
  "kernelspec": {
   "display_name": "Julia 1.11.1",
   "language": "julia",
   "name": "julia-1.11"
  },
  "language_info": {
   "file_extension": ".jl",
   "mimetype": "application/julia",
   "name": "julia",
   "version": "1.11.1"
  }
 },
 "nbformat": 4,
 "nbformat_minor": 5
}
