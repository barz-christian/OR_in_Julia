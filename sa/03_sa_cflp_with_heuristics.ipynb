{
 "cells": [
  {
   "cell_type": "raw",
   "id": "f27e2d7b-3fdb-4095-8d23-0c980a6e20c0",
   "metadata": {},
   "source": [
    "---\n",
    "title: Capacitated Facility Location Problem solved by Simulated Annealing and heuristics\n",
    "jupyter: julia-1.11\n",
    "---"
   ]
  },
  {
   "cell_type": "markdown",
   "id": "41350acb-2248-4501-b61f-ec6c26f15999",
   "metadata": {},
   "source": [
    "We saw how to solve a capacitated facility location problem (CFLP) in Julia using combined simulated annealing.\n",
    "\n",
    "Here we look at a much more simpler approach in which we use a random walk to decide which facility to open and a simple heuristic to assign facilities to customer. \n",
    "In other words we look what would happen if we skip the inner layer algorithm in the combined simulated annealing.\n",
    "\n",
    "But for the convenience of the reader we recall the capacitated facility location problem first.\n",
    "\n",
    "## Problem statement\n",
    "\n",
    "A company must select a subset of potential facility locations to minimize total cost associated with opening facilities and servicing customers. Each costumer has a specific demand and each facility has a fixed opening costs, a specific capacity and service costs based on the distance to customers.\n",
    "\n",
    "## Mathematical model formulation\n",
    "\n",
    "In order to have a more mathematical problem description we give a formulation as a mixed interger problem next:\n",
    "\n",
    "### Sets\n",
    "\n",
    "- $J=\\{1,\\ldots,m\\}$ set of potential facilities\n",
    "- $C=\\{1,\\ldots,n\\}$ set of customers\n",
    "\n",
    "### Parameters\n",
    "\n",
    "- $c^f_j\\in\\mathbb{R}⁺$ fix opening cost of facility $j$\n",
    "- $q_j\\in\\mathbb{N}^+$ capacity of facility $j$\n",
    "- $d_i\\in\\mathbb{N}^+$ demand of customer $i$\n",
    "- $c^v_{i,j}\\in\\mathbb{R}^+$ servicing costs from facility $j$ to customer $i$\n",
    "\n",
    "### Decision variables\n",
    "\n",
    "- $x_{ij}$, real, demand of customer $i$ served by facility $j$\n",
    "- $y_j$, binary, 1 if and only if facility $j$ is open\n",
    "\n",
    "### Objective\n",
    "\n",
    "$$\n",
    "\\min \\sum_j c^f_j \\cdot y_j + \\sum_{ij} c_{ij}x_{ij}\n",
    "$$\n",
    "\n",
    "### Constraints\n",
    "\n",
    "- (c1) Each client's demand is served:\n",
    "\n",
    "$$\n",
    "\\sum_j x_{ij} = d_i, \\; \\forall i \\in C\n",
    "$$\n",
    "\n",
    "- (c2) A facility can serve a client only if its open:\n",
    "\n",
    "$$\n",
    "x_{ij} \\leq d_i y_j, \\forall i\\in C, \\forall j \\in J\n",
    "$$\n",
    "\n",
    "- (c3) A facility can not provide more than its capacity\n",
    "\n",
    "$$\n",
    "\\sum_i x_{ij} \\leq q_j y_j, \\forall j \\in J\n",
    "$$\n",
    "\n",
    "- (c4) There is maximal number of facilities allowed to be opened\n",
    "\n",
    "$$\n",
    "\\sum_j y_j \\leq k, \n",
    "$$\n"
   ]
  },
  {
   "cell_type": "markdown",
   "id": "5f1f4015-4916-4c01-b8f0-c249e2a9fbe7",
   "metadata": {},
   "source": [
    "### Problem formulation as a Mixed Interger Linear Programm\n",
    "\n",
    "\n",
    "$$\n",
    "\\begin{array}{lll}\n",
    "\\min & \\sum_j c^f_j \\cdot y_j + \\sum_{ij} c_{ij}x_{ij} &\\\\\n",
    "s.t. & \\sum_j x_{ij} = d_i & \\forall i \\in C\\\\\n",
    "     & x_{ij} \\leq d_i y_j & \\forall i\\in C, \\forall j \\in J\\\\\n",
    "     & \\sum_i x_{ij} \\leq q_j y_j & \\forall j \\in J \\\\\n",
    "     & \\sum_j y_j \\leq k & \\\\\n",
    "     & x_{ij}\\geq0 & \\\\\n",
    "     & y_j\\in\\{0,1\\}&\n",
    "\\end{array}\n",
    "$$"
   ]
  },
  {
   "cell_type": "code",
   "execution_count": 1,
   "id": "72a8bc33-4f70-4c25-bde7-2960a029a190",
   "metadata": {},
   "outputs": [],
   "source": [
    "using Random\n",
    "using LinearAlgebra"
   ]
  },
  {
   "cell_type": "code",
   "execution_count": 2,
   "id": "64b8e8bc-bb9c-44b5-b127-a96a7ca10ab5",
   "metadata": {},
   "outputs": [],
   "source": [
    "# set seed for reporducibility\n",
    "Random.seed!(1111);\n",
    "Random.TaskLocalRNG();"
   ]
  },
  {
   "cell_type": "markdown",
   "id": "e031cd08-46d4-4b8c-9ab2-a87e1e1168e2",
   "metadata": {},
   "source": [
    "## Implementation\n",
    "\n",
    "Before we show an implementation of a simplified version of a simulated annealing for a CFLP and apply it to some examples, lets briefly give you a brief overview of the full implementation:\n",
    "\n",
    "1. Data Structures \n",
    "2. I/O and Tests\n",
    "3. Additonal functions e.g. to generate initial solutions\n",
    "4. An heuristic asignment of client demand to open facilities\n",
    "5. simmulated annealing implementation (only for the open facility descision)\n",
    "8. Solving examples\n",
    "9. Comparison"
   ]
  },
  {
   "cell_type": "code",
   "execution_count": 3,
   "id": "8b804685-ddf8-4314-94a9-1d644ad6eb03",
   "metadata": {},
   "outputs": [
    {
     "data": {
      "text/plain": [
       "SA_client_facility_assignment (generic function with 5 methods)"
      ]
     },
     "execution_count": 3,
     "metadata": {},
     "output_type": "execute_result"
    }
   ],
   "source": [
    "include(\"./SA_DataSturctures.jl\")\n",
    "include(\"./io.jl\")\n",
    "include(\"./tests.jl\")\n",
    "include(\"./SA_Algorithms.jl\")"
   ]
  },
  {
   "cell_type": "markdown",
   "id": "773d47b7-9987-46c9-90ac-86da9b45607b",
   "metadata": {},
   "source": [
    "## Heuristics \n",
    "\n",
    "Because the search space for the assignment variable $x_{ij}$ can become extremely large, we simply use a simple heuristic to compute a valid assignment of clients to facilites.\n",
    "This is encoded in the function `client_facility_assignment` (see below).\n",
    "\n",
    "The heuristic works as follows:\n",
    "\n",
    "For each $i$ in customer do:\n",
    "1. while demand[i] > 0\n",
    "    find j in facility with free capacity such that the variable costs are minimal\n",
    "    if demand[i] <= facility_capacity[j]\n",
    "            assign[j,i] = demand[i]\n",
    "            facility_capapacity[j] = facility_capacity[j] - demand[i]\n",
    "            demand[i] = 0\n",
    "        if demand[i] > facility_capacity[j]\n",
    "            assgnm[j,i] = facility_capacity[j]\n",
    "            demand[i] = demand[i] - facility_capacity[j]\n",
    "            facility_capacity[j] = 0\n",
    "   return assignment"
   ]
  },
  {
   "cell_type": "code",
   "execution_count": 4,
   "id": "796cd38c-707c-4a24-9b5b-633c83c80c3b",
   "metadata": {},
   "outputs": [
    {
     "data": {
      "text/plain": [
       "heuristic_client_facility_assignment (generic function with 1 method)"
      ]
     },
     "execution_count": 4,
     "metadata": {},
     "output_type": "execute_result"
    }
   ],
   "source": [
    "function heuristic_client_facility_assignment(\n",
    "        data::cflp_data, open_facilities::Vector{Bool})\n",
    "    \"\"\"\n",
    "    returns m times n matrix with elements representing the demand of customer i served by facility j\n",
    "    assignment is done by assigning the clients demand to the cheapest open facilitiy, more precisely:\n",
    "\n",
    "    for i in customer\n",
    "        while dem[i] > 0\n",
    "            find j in facility with facility_cap[j] > 0 and cost_var[i,j] is minimal\n",
    "        if dem[i] <= facility_cap[j]\n",
    "            assignm[j,i] = dem[i]\n",
    "            facility_cap[j] = facility_cap[j] - dem[i]\n",
    "            dem[i] = 0\n",
    "        if dem[i] > facility_cap[j]\n",
    "            assgnm[j,i] = facility_cap[j]\n",
    "            dem[i] = dem[i] - facility_cap[j]\n",
    "            facility_cap[j] = 0\n",
    "        return assignment    \n",
    "    \"\"\"\n",
    "\n",
    "    # create assignment matrix\n",
    "    assignment = zeros(Int, data.m, data.n)\n",
    "\n",
    "    # get available facility capacities\n",
    "    facility_cap = [data.capacity[i] * open_facilities[i] for i in 1:data.m] # usually elementwise multiplication in Julia is done by .*, but here we get a 3x3 matrix instead of a vector\n",
    "    customer_demand = copy(data.demand)\n",
    "    # initialize available facilities, because we want to use findmin later assign a big number to non open facilities\n",
    "    facilities = [1. for j in 1:data.m]\n",
    "    facilities[facility_cap .< 1] .= data.bigM_customer\n",
    "    \n",
    "    for i in 1:length(customer_demand)\n",
    "        failsafe = 0\n",
    "        while customer_demand[i] > 0 \n",
    "            if failsafe > data.m * data.n\n",
    "                break\n",
    "            else \n",
    "                failsafe +=  1\n",
    "            end\n",
    "            j = findmin([data.cost_var[i,j] * facilities[j] for j in 1:data.m])[2]\n",
    "            if customer_demand[i] <= facility_cap[j]\n",
    "                assignment[j,i] += customer_demand[i]\n",
    "                facility_cap[j] -= customer_demand[i]\n",
    "                customer_demand[i] = 0\n",
    "                facilities[facility_cap .< 1] .= data.bigM_customer\n",
    "            end\n",
    "            if customer_demand[i] > facility_cap[j]\n",
    "                assignment[j,i] += facility_cap[j]\n",
    "                customer_demand[i] -= facility_cap[j]\n",
    "                facility_cap[j] = 0\n",
    "                facilities[facility_cap .< 1] .= data.bigM_customer\n",
    "            end\n",
    "            \n",
    "            # if all demand is allocated stop loop\n",
    "            if sum(customer_demand) == 0\n",
    "                break\n",
    "            end\n",
    "        end\n",
    "    end\n",
    "    return assignment\n",
    "end"
   ]
  },
  {
   "cell_type": "markdown",
   "id": "debb61f5-6d25-489a-99e8-a23ebe8b4c37",
   "metadata": {},
   "source": [
    "Our simulated annealing with this heuristic can be implemented as follows:"
   ]
  },
  {
   "cell_type": "code",
   "execution_count": 5,
   "id": "e45477e7-f7d7-4a9b-92dd-ebf502dcfbeb",
   "metadata": {},
   "outputs": [
    {
     "data": {
      "text/plain": [
       "SA_cflp_with_heuristic (generic function with 5 methods)"
      ]
     },
     "execution_count": 5,
     "metadata": {},
     "output_type": "execute_result"
    }
   ],
   "source": [
    "function SA_cflp_with_heuristic(\n",
    "        data::cflp_data, k::Int64, start_temp::Float64 = 10.0, end_temp::Float64 = 1.0, alpha::Float64 = 0.5, max_iter::Int64 = 100)\n",
    "    \"\"\"\n",
    "    TBA\n",
    "    \"\"\"\n",
    "    # generate initial solution \n",
    "    current_solution = generate_initial_solution(data, k)\n",
    "    best_solution = current_solution\n",
    "\n",
    "    # iterate\n",
    "    temp = start_temp\n",
    "    while temp > end_temp\n",
    "        for _ in 1:max_iter\n",
    "            # generate a new decision on open facilities\n",
    "            candidate_solution = generate_candidate_facility(data, current_solution, k)\n",
    "            \n",
    "            if  test_cflp_solution(data, candidate_solution, k) && candidate_solution.cost < best_solution.cost \n",
    "                best_solution = candidate_solution\n",
    "            end\n",
    "\n",
    "            if candidate_solution.cost < current_solution.cost\n",
    "                current_solution = candidate_solution\n",
    "            else\n",
    "                acceptance_prob = exp( (current_solution.cost - candidate_solution.cost) / temp )\n",
    "                if rand() < acceptance_prob\n",
    "                    current_solution = candidate_solution\n",
    "                end\n",
    "            end\n",
    "            \n",
    "        end\n",
    "        \n",
    "        temp *= alpha\n",
    "    end\n",
    "\n",
    "    if !test_cflp_solution(data, best_solution,k)\n",
    "        println(\"did not found a feasible solution\")\n",
    "    end\n",
    "    \n",
    "    return  best_solution\n",
    "end"
   ]
  },
  {
   "cell_type": "markdown",
   "id": "65e0a7e5-2bef-447b-a7b1-50f1eacbd619",
   "metadata": {},
   "source": [
    "## Examples"
   ]
  },
  {
   "cell_type": "markdown",
   "id": "2d7e72bf-a6dc-49d9-ac65-bfd4184d2ae0",
   "metadata": {},
   "source": [
    "### A simple CFLP\n",
    "\n",
    "The following problem data for a CFLP is taken from [Mathematical Optimization: Solving Problems using SCIP and Python](https://scipbook.readthedocs.io/en/latest/flp.html)."
   ]
  },
  {
   "cell_type": "code",
   "execution_count": 6,
   "id": "953cbcc6-36b1-4060-be6d-fa14ea6859f5",
   "metadata": {},
   "outputs": [
    {
     "name": "stdout",
     "output_type": "stream",
     "text": [
      "Total cost are:5610.0\n",
      "Open facilities:[2, 3]\n",
      "Assignment:\n",
      "customer   1 gets       80.000000 from facility   2\n",
      "customer   2 gets      270.000000 from facility   2\n",
      "customer   3 gets      150.000000 from facility   2\n",
      "customer   3 gets      100.000000 from facility   3\n",
      "customer   4 gets      160.000000 from facility   3\n",
      "customer   5 gets      180.000000 from facility   3\n"
     ]
    }
   ],
   "source": [
    "# data\n",
    "demand = [80, 270, 250, 160, 180]\n",
    "capacity = [500,500,500]\n",
    "cost_fix = [1000.,1000.,1000.]\n",
    "cost_var = [4. 6. 9.; 5. 4. 7.; 6. 3. 4.; 8. 5. 3.; 10. 8. 4.]\n",
    "\n",
    "data = cflp_data(cost_fix, cost_var, capacity, demand)\n",
    "sol = SA_cflp_with_heuristic(data, 2)\n",
    "print_solution(sol)"
   ]
  },
  {
   "cell_type": "markdown",
   "id": "ab825a60-51e3-417c-9461-c51d3cd51670",
   "metadata": {},
   "source": [
    "We recall that the optimal solution was\n",
    "\n",
    "    Total cost are:5370.000000000006\n",
    "    Open facilities:[2, 3]\n",
    "\n",
    "\n",
    "and a solution of the combined simulated annealing was\n",
    "    \n",
    "    Total cost are:5610.0\n",
    "    Open facilities:[2, 3]"
   ]
  },
  {
   "cell_type": "markdown",
   "id": "cddae79c-26c4-4d0b-8230-b4db09341489",
   "metadata": {},
   "source": [
    "### Example 2"
   ]
  },
  {
   "cell_type": "code",
   "execution_count": 7,
   "id": "1aa2ec9b-e013-4da2-bb0a-896ef861009b",
   "metadata": {},
   "outputs": [
    {
     "name": "stdout",
     "output_type": "stream",
     "text": [
      "Total cost are:14704.919999999998\n",
      "Open facilities:[1, 3, 5, 7, 8, 9, 10, 11, 12]\n",
      "Assignment:\n",
      "customer   1 gets       18.000000 from facility   9\n",
      "customer   2 gets       21.000000 from facility   7\n",
      "customer   3 gets       12.000000 from facility  11\n",
      "customer   4 gets       14.000000 from facility   3\n",
      "customer   5 gets       18.000000 from facility   3\n"
     ]
    }
   ],
   "source": [
    "using JLD2\n",
    "\n",
    "d = load(\"../data/data.jld2\")[\"data\"]\n",
    "dont_print_all = true\n",
    "data = cflp_data(d[\"cost_fix\"], d[\"cost_var\"], d[\"capacity\"], d[\"demand\"])\n",
    "\n",
    "k = 9\n",
    "example2 = SA_cflp_with_heuristic(data, k)\n",
    "print_solution(example2, dont_print_all)"
   ]
  },
  {
   "cell_type": "markdown",
   "id": "676ab927-ef5d-4f16-b3b5-d37e5524da2c",
   "metadata": {},
   "source": [
    "We recall the MILP solution was \n",
    "\n",
    "    Total cost are:14277.130000000001\n",
    "    Open facilities:[1, 3, 5, 6, 8, 9, 10, 11, 13]\n",
    "\n",
    "and a solution of the combined simulated annealing was\n",
    "\n",
    "    Total cost are:14278.269999999999\n",
    "    Open facilities:[1, 3, 5, 6, 8, 9, 10, 11, 13]"
   ]
  },
  {
   "cell_type": "code",
   "execution_count": null,
   "id": "7ee71583-e1c0-48cb-9fcb-3d5e71982ced",
   "metadata": {},
   "outputs": [],
   "source": []
  }
 ],
 "metadata": {
  "kernelspec": {
   "display_name": "Julia 1.11.1",
   "language": "julia",
   "name": "julia-1.11"
  },
  "language_info": {
   "file_extension": ".jl",
   "mimetype": "application/julia",
   "name": "julia",
   "version": "1.11.1"
  }
 },
 "nbformat": 4,
 "nbformat_minor": 5
}
