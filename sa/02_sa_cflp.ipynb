{
 "cells": [
  {
   "cell_type": "raw",
   "id": "f27e2d7b-3fdb-4095-8d23-0c980a6e20c0",
   "metadata": {},
   "source": [
    "---\n",
    "title: Capacitated Facility Location Problem solved by Simulated Annealing\n",
    "jupyter: julia-1.11\n",
    "---"
   ]
  },
  {
   "cell_type": "markdown",
   "id": "41350acb-2248-4501-b61f-ec6c26f15999",
   "metadata": {},
   "source": [
    "\n",
    "We show how to solve a capacitated facility location problem (CFLP) in Julia using [Simulated Annealing](https://en.wikipedia.org/wiki/Simulated_annealing), which is a metaheuristic to approximate the global optimum in a large search space for an optimization problem.\n",
    "\n",
    "Here we used a so called combined simmulated annealing [@qin2012combined], which we explain briefly later.\n",
    "\n",
    "\n",
    "## Problem statement\n",
    "\n",
    "A company must select a subset of potential facility locations to minimize total cost associated with opening facilities and servicing customers. Each costumer has a specific demand and each facility has a fixed opening costs, a specific capacity and service costs based on the distance to customers.\n",
    "Moreover we do not want to open more than we certain number of facilities.\n",
    "\n",
    "## Mathematical model formulation\n",
    "\n",
    "In order to have a more mathematical problem description we give a formulation as a mixed interger problem next:\n",
    "\n",
    "### Sets\n",
    "\n",
    "- $J=\\{1,\\ldots,m\\}$ set of potential facilities\n",
    "- $C=\\{1,\\ldots,n\\}$ set of customers\n",
    "\n",
    "### Parameters\n",
    "\n",
    "- $c^f_j\\in\\mathbb{R}⁺$ fix opening cost of facility $j$\n",
    "- $q_j\\in\\mathbb{N}^+$ capacity of facility $j$\n",
    "- $d_i\\in\\mathbb{N}^+$ demand of customer $i$\n",
    "- $c^v_{i,j}\\in\\mathbb{R}^+$ servicing costs from facility $j$ to customer $i$\n",
    "\n",
    "### Decision variables\n",
    "\n",
    "- $x_{ij}$, real, demand of customer $i$ served by facility $j$\n",
    "- $y_j$, binary, 1 if and only if facility $j$ is open\n",
    "\n",
    "### Objective\n",
    "\n",
    "$$\n",
    "\\min \\sum_j c^f_j \\cdot y_j + \\sum_{ij} c_{ij}x_{ij}\n",
    "$$\n",
    "\n",
    "### Constraints\n",
    "\n",
    "- (c1) Each client's demand is served:\n",
    "\n",
    "$$\n",
    "\\sum_j x_{ij} = d_i, \\; \\forall i \\in C\n",
    "$$\n",
    "\n",
    "- (c2) A facility can serve a client only if its open:\n",
    "\n",
    "$$\n",
    "x_{ij} \\leq d_i y_j, \\forall i\\in C, \\forall j \\in J\n",
    "$$\n",
    "\n",
    "- (c3) A facility can not provide more than its capacity\n",
    "\n",
    "$$\n",
    "\\sum_i x_{ij} \\leq q_j y_j, \\forall j \\in J\n",
    "$$\n",
    "\n",
    "- (c4) There is maximal number of facilities allowed to be opened\n",
    "\n",
    "$$\n",
    "\\sum_j y_j \\leq k, \n",
    "$$"
   ]
  },
  {
   "cell_type": "markdown",
   "id": "5f1f4015-4916-4c01-b8f0-c249e2a9fbe7",
   "metadata": {},
   "source": [
    "### Problem formulation as a Mixed Interger Linear Programm\n",
    "\n",
    "\n",
    "$$\n",
    "\\begin{array}{lll}\n",
    "\\min & \\sum_j c^f_j \\cdot y_j + \\sum_{ij} c_{ij}x_{ij} &\\\\\n",
    "s.t. & \\sum_j x_{ij} = d_i & \\forall i \\in C\\\\\n",
    "     & x_{ij} \\leq d_i y_j & \\forall i\\in C, \\forall j \\in J\\\\\n",
    "     & \\sum_i x_{ij} \\leq q_j y_j & \\forall j \\in J \\\\\n",
    "     & \\sum_j y_j \\leq k & \\\\\n",
    "     & x_{ij}\\geq0 & \\\\\n",
    "     & y_j\\in\\{0,1\\}&\n",
    "\\end{array}\n",
    "$$"
   ]
  },
  {
   "cell_type": "markdown",
   "id": "643cbaef-c923-411c-a5fc-b9fe7462d682",
   "metadata": {},
   "source": [
    "## Implementation\n",
    "\n",
    "For our simulated annealing implementation we choosed a so called a combined simmulated annealing [@qin2012combined], which means we have to layers:\n",
    "\n",
    "1. an outer layer algorithm (OLSA), which optimizes the facility location decision\n",
    "2. an inner layer algorithm (ILSA), which optimizes the demand allocation decision based on the open facility decision given by the outer layer algorithm.\n",
    "\n",
    "and in each layer an simumalted annealing is used.\n",
    "\n",
    "But before we look at the implementation and apply it to some examples, lets briefly give you a brief overview:\n",
    "\n",
    "1. Data Structures \n",
    "2. I/O and Tests\n",
    "3. Additonal functions e.g. to generate initial solutions\n",
    "5. Combined simmulated annealing implementation\n",
    "8. Solve examples"
   ]
  },
  {
   "cell_type": "code",
   "execution_count": 1,
   "id": "72a8bc33-4f70-4c25-bde7-2960a029a190",
   "metadata": {},
   "outputs": [],
   "source": [
    "using Random\n",
    "using LinearAlgebra\n",
    "using JLD2"
   ]
  },
  {
   "cell_type": "code",
   "execution_count": 2,
   "id": "e503c98b-82f7-40e0-87fa-14480cfea241",
   "metadata": {},
   "outputs": [],
   "source": [
    "# set seed for reporducibility\n",
    "Random.seed!(123);\n",
    "Random.TaskLocalRNG();"
   ]
  },
  {
   "cell_type": "markdown",
   "id": "e031cd08-46d4-4b8c-9ab2-a87e1e1168e2",
   "metadata": {},
   "source": [
    "## CFLP data structure\n",
    "\n",
    "We define two data Data Structures constisting of\n",
    "\n",
    "   1. `cflp_data` to hold the problem data and\n",
    "   2. `cflp_solution` to hold one solution, which does not necessarily need to\n",
    "\n",
    "be optimal."
   ]
  },
  {
   "cell_type": "code",
   "execution_count": 3,
   "id": "777a9879-f4c2-4082-97ed-25ff68cec3ec",
   "metadata": {},
   "outputs": [],
   "source": [
    "include(\"./SA_DataSturctures.jl\")"
   ]
  },
  {
   "cell_type": "markdown",
   "id": "5d492b97-b7c0-4bdb-a001-d3296669c07f",
   "metadata": {},
   "source": [
    "## I/O and tests functions\n",
    "\n",
    "For simplicity of this showcase we wrote a function\n",
    "\n",
    "1. to randomly generate data (`gen_data`)\n",
    "2. print the solution in a more human readable way (`print_solution`) and\n",
    "3. test the solution for feasibility (`test_cflp_solution`)."
   ]
  },
  {
   "cell_type": "code",
   "execution_count": 4,
   "id": "7ffa2b40-486a-4bc2-a669-a6b5582f9bb5",
   "metadata": {},
   "outputs": [
    {
     "data": {
      "text/plain": [
       "test_cflp_solution (generic function with 2 methods)"
      ]
     },
     "execution_count": 4,
     "metadata": {},
     "output_type": "execute_result"
    }
   ],
   "source": [
    "include(\"./IO.jl\")\n",
    "include(\"./Tests.jl\")"
   ]
  },
  {
   "cell_type": "markdown",
   "id": "5138880f-7db3-435e-80e0-2643d3b71c5c",
   "metadata": {},
   "source": [
    "## Additional functions\n",
    "\n",
    "1. generate an initial solution\n",
    "2. generate a client to facility assigment based on an heuristic\n",
    "3. generate candidates for inner and outer layer simulated annealing"
   ]
  },
  {
   "cell_type": "code",
   "execution_count": 5,
   "id": "ba61dffe-2422-4be0-aeea-99f45824a826",
   "metadata": {},
   "outputs": [
    {
     "data": {
      "text/plain": [
       "SA_cflp (generic function with 5 methods)"
      ]
     },
     "execution_count": 5,
     "metadata": {},
     "output_type": "execute_result"
    }
   ],
   "source": [
    "include(\"./SA_Algorithms.jl\")"
   ]
  },
  {
   "cell_type": "markdown",
   "id": "a1539fed-6299-4396-8a7d-74baae42b988",
   "metadata": {},
   "source": [
    "## Combined simmulated annealing implementation\n",
    "\n",
    "We will implement a so called a combined simmulated annealing [@qin2012combined], which means we have to layers:\n",
    "\n",
    "1. an outer layer algorithm (OLSA), which optimizes the facility location decision (see `SA_cflp`)\n",
    "2. an inner layer algorithm (ILSA), which optimizes the demand allocation decision based on the open facility decision given by the outer layer algorithm (see `SA_client_facility_assignment`).\n",
    "\n",
    "Maybe its valuable to note that from an user point of view, there is only a \"simulate annealing function\" `SA_cflp` and the ILSA simply means running a simulated annealing to find a good solution for assigning client demand to facilities based on a fixed descision on open facilities from the OLSA."
   ]
  },
  {
   "cell_type": "markdown",
   "id": "8f103f6c-8af6-4ad7-9896-98c842626d33",
   "metadata": {},
   "source": [
    "### Outer layer algorithm - open facility decision\n",
    "\n",
    "In the outer layer algorithm we explore the search space (after starting from an initial solution) by swaping the status of a randomly choosen facility (i.e. `idx = rand(1:data.m)` below), e.g. we swap the status of the choosen facility from close to open and vice versa. This is done by the function `generate_candidate_facility` below.\n",
    "\n",
    "Afterwards we run the inner layer algorithm to explore the search space with respect to the descision on assigning client demand to open facility, which we explain in the next section.\n",
    "\n",
    "Of course other strategies migth be more useful, just to give two examples:\n",
    "\n",
    "- if the number of facilities is small, we could simply to an lexicographic search. \n",
    "- if the number of possible facilities `m` is large but the number of maximal open facilities `k` is small, one could swap a random number of facilities simultaneously or use a rolling window with variable lenght."
   ]
  },
  {
   "cell_type": "code",
   "execution_count": 6,
   "id": "607520ae-7b18-484d-9cae-34540444fe71",
   "metadata": {},
   "outputs": [
    {
     "data": {
      "text/plain": [
       "generate_candidate_facility (generic function with 1 method)"
      ]
     },
     "execution_count": 6,
     "metadata": {},
     "output_type": "execute_result"
    }
   ],
   "source": [
    "function generate_candidate_facility(data::cflp_data, solution::cflp_solution, k::Int)\n",
    "    \"\"\"\n",
    "    returns cflp_solution in which the decision on open facilities is randomly modified\n",
    "    the allocation of client demand to facilities is done using the heuristic assignment\n",
    "    \"\"\"\n",
    "    # generate new candidate for open facilities by swaping the value at a random index\n",
    "    candidate = copy(solution.open_facilities)\n",
    "    idx = rand(1:data.m)\n",
    "    candidate[idx] = !candidate[idx]\n",
    "    candidate_solution_heu = cflp_solution(data, candidate, heuristic_client_facility_assignment(data, candidate))\n",
    "    \n",
    "    # swap an index if generated candidate is infeasible            \n",
    "    while !test_cflp_solution(data, candidate_solution_heu, k)\n",
    "        idx = rand(1:data.m)\n",
    "        candidate[idx] = !candidate[idx]\n",
    "        candidate_solution_heu = cflp_solution(data, candidate, heuristic_client_facility_assignment(data, candidate))\n",
    "    end     \n",
    "\n",
    "    return candidate_solution_heu\n",
    "end"
   ]
  },
  {
   "cell_type": "markdown",
   "id": "ef20a95e-da1a-4dc8-aad9-ef8dd54f0144",
   "metadata": {},
   "source": [
    "### Inner layer algorithm - client to facility assignment\n",
    "\n",
    "In the inner layer algorithm we explore the search space with respect to the assignment of client demand to facilities.\n",
    "\n",
    "Based on the decision on open facilities made by the outer layer algorithm the initial solution is given by an heuristic assignment, which simply said assigns to each client the cheapest available facility.\n",
    "\n",
    "From there we start shifting a random amount of client demand to a facility with free capacity:\n",
    "\n",
    "1. find facility $j_{free}$ with free capacity\n",
    "2. choose a random client $i_{rand}$\n",
    "3. choose a random facility $j_{rand}$ which serves demand of client $i_rand$\n",
    "4. choose a random demand (which is neither greater than assigned client demand to $j_{rand}$ nor the free capacity of $j_{free}$\n",
    "5. move this demand from facility  $j_{rand}$ to $j_{free}$\n",
    "\n",
    "This is done in the function `generate_candidate_assignment`.\n",
    "\n",
    "We note that this strategy in the current implementation can get stuck (see doc string of `generate_candidate_assignment`), which means the inner layer algorithm is running but is not exploring the search space.\n",
    "However this problem can be solved by checking the sufficient conditions first, before starting the inner layer algorithm. To keep the example simple we did not implemented this solution. Another option would be for example to swap a suitable demand between clients."
   ]
  },
  {
   "cell_type": "code",
   "execution_count": 7,
   "id": "cc05d3af-425e-4d7e-9c6a-7266d69f0589",
   "metadata": {},
   "outputs": [
    {
     "data": {
      "text/plain": [
       "generate_candidate_assignment (generic function with 1 method)"
      ]
     },
     "execution_count": 7,
     "metadata": {},
     "output_type": "execute_result"
    }
   ],
   "source": [
    "function generate_candidate_assignment(data::cflp_data, solution::cflp_solution)\n",
    "    \"\"\"\n",
    "    returns a cflp_solution where the open_facilities are equal to the input, but\n",
    "    a random part of one assignment of a client demand to facilities is move to a facilitiy \n",
    "    with free capacity\n",
    "\n",
    "    N.B. In the current implementation it is possible, that the assignment matrix does not change\n",
    "    (this happens when j_free = j_rand, i.e. we take demand from the facilitiy but assign it back again)\n",
    "    In particular the SA is not exploring the search space, as its stays at the solution until the descision on open facilities changes\n",
    "    \n",
    "    In particular this happens when J = {j_rand}\n",
    "    In particular this happend with random data when k has to be choosen close to number of facilities to fulfill feasibility\n",
    "\n",
    "    In the next iteration we could implement a another decision, for example\n",
    "    \"that we simply swap a suitable demand between clients under the assumption that both have different facilities\" \n",
    "    \"\"\"\n",
    "    \n",
    "    assignment = copy(solution.assignment)\n",
    "    \n",
    "    # determine free capacity as difference of available capacity minus assigned capacity\n",
    "    free_capacity = [data.capacity[j] * solution.open_facilities[j] for j in 1:data.m]\n",
    "    free_capacity -= [sum(solution.assignment[j,:]) for j in 1:data.m]\n",
    "    \n",
    "    # get random facility with free capacity\n",
    "    j_free = rand([j for j in 1:data.m if free_capacity[j]!=0])\n",
    "    \n",
    "    # move assigned capacity randomly to j_free\n",
    "    ## but therefore we need a client and a facility and a random capacity to move first\n",
    "    i_rand = rand([i for i in 1:data.n])\n",
    "    J = [j for j in 1:data.m if solution.assignment[j, i_rand] != 0]\n",
    "    j_rand = rand(J) \n",
    "\n",
    "    cap_move = rand(1:min(free_capacity[j_free], solution.assignment[j_rand,i_rand]))\n",
    "    \n",
    "    # move capacity\n",
    "    assignment[j_free,i_rand] += cap_move\n",
    "    assignment[j_rand,i_rand] -= cap_move\n",
    "    \n",
    "    return cflp_solution(data, solution.open_facilities, assignment)\n",
    "end"
   ]
  },
  {
   "cell_type": "markdown",
   "id": "ead6d4f7-998b-4184-8914-3e4781948b74",
   "metadata": {},
   "source": [
    "We now know how to generate a new candidate assignemt with `generate_candidate_assignment`, so lets look at the implementation of the inner layer algorithm (`SA_client_facility_assignment`) next."
   ]
  },
  {
   "cell_type": "code",
   "execution_count": 8,
   "id": "55993ea2-f301-40fa-a2ef-d803057b041f",
   "metadata": {},
   "outputs": [
    {
     "data": {
      "text/plain": [
       "SA_client_facility_assignment (generic function with 5 methods)"
      ]
     },
     "execution_count": 8,
     "metadata": {},
     "output_type": "execute_result"
    }
   ],
   "source": [
    "function SA_client_facility_assignment(data::cflp_data, solution::cflp_solution,\n",
    "        start_temp::Float64 = 10.0, end_temp::Float64 = 1.0, alpha::Float64 = 0.5, max_iter::Int64 = 5)\n",
    "    \"\"\"\n",
    "    performs an simulated annealing to find an assignment of client demand to open facilities\n",
    "\n",
    "    returns cflp_solution with local minimal costs\n",
    "    \"\"\"\n",
    "    \n",
    "    # initial solution\n",
    "    current_solution = solution\n",
    "    best_solution = cflp_solution(data, solution.open_facilities, solution.assignment)\n",
    "\n",
    "    # iterate\n",
    "    temp = start_temp\n",
    "\n",
    "    while temp > end_temp\n",
    "        for _ in 1:max_iter\n",
    "            # generate new candidate assigning client demand to open facilities\n",
    "            candidate_solution = generate_candidate_assignment(data, current_solution)  \n",
    "\n",
    "            if  candidate_solution.cost < best_solution.cost \n",
    "                best_solution = cflp_solution(data, candidate_solution.open_facilities, \n",
    "                    candidate_solution.assignment)\n",
    "            end\n",
    "\n",
    "            if candidate_solution.cost < current_solution.cost\n",
    "                current_solution = candidate_solution\n",
    "            else\n",
    "                acceptance_prob = exp( (current_solution.cost - candidate_solution.cost) / temp )\n",
    "                if rand() < acceptance_prob\n",
    "                    current_solution = candidate_solution\n",
    "                end\n",
    "            end          \n",
    "        end        \n",
    "        temp *= alpha\n",
    "    end\n",
    "    \n",
    "    return  best_solution\n",
    "    \n",
    "end"
   ]
  },
  {
   "cell_type": "markdown",
   "id": "2a5649c4-cf6e-4e02-a6ef-11937c1aabee",
   "metadata": {},
   "source": [
    "Now we have all ingredients for our outer layer algorithm `SA_cflp`:"
   ]
  },
  {
   "cell_type": "code",
   "execution_count": 9,
   "id": "edec2d61-fc25-41bc-834c-22c66683f0bb",
   "metadata": {},
   "outputs": [
    {
     "data": {
      "text/plain": [
       "SA_cflp (generic function with 5 methods)"
      ]
     },
     "execution_count": 9,
     "metadata": {},
     "output_type": "execute_result"
    }
   ],
   "source": [
    "function SA_cflp(\n",
    "        data::cflp_data, k::Int64, start_temp::Float64 = 10.0, end_temp::Float64 = 1.0, alpha::Float64 = 0.5, max_iter::Int64 = 100)\n",
    "    \"\"\"\n",
    "    TBA\n",
    "    \"\"\"\n",
    "    # generate initial solution \n",
    "    current_solution = generate_initial_solution(data, k)\n",
    "    best_solution = current_solution\n",
    "\n",
    "    # iterate\n",
    "    temp = start_temp\n",
    "\n",
    "    while temp > end_temp\n",
    "        for _ in 1:max_iter\n",
    "            # generate a new decision on open facilities\n",
    "            candidate_solution_heu = generate_candidate_facility(data, current_solution, k)\n",
    "            \n",
    "            # run simulated annealing on the assignment\n",
    "            candidate_solution = SA_client_facility_assignment(data, candidate_solution_heu)\n",
    "\n",
    "            if  test_cflp_solution(data, candidate_solution, k) && candidate_solution.cost < best_solution.cost \n",
    "                best_solution = candidate_solution\n",
    "            end\n",
    "\n",
    "            if candidate_solution.cost < current_solution.cost\n",
    "                current_solution = candidate_solution\n",
    "            else\n",
    "                acceptance_prob = exp( (current_solution.cost - candidate_solution.cost) / temp )\n",
    "                if rand() < acceptance_prob\n",
    "                    current_solution = candidate_solution\n",
    "                end\n",
    "            end\n",
    "        end\n",
    "        temp *= alpha\n",
    "    end\n",
    "\n",
    "    if !test_cflp_solution(data, best_solution,k)\n",
    "        println(\"did not found a feasible solution\")\n",
    "    end\n",
    "    \n",
    "    return  best_solution\n",
    "end"
   ]
  },
  {
   "cell_type": "markdown",
   "id": "65e0a7e5-2bef-447b-a7b1-50f1eacbd619",
   "metadata": {},
   "source": [
    "## Solve examples\n",
    "\n",
    "Lets apply our implementation to some examples."
   ]
  },
  {
   "cell_type": "markdown",
   "id": "226aeee3-e50d-4be2-8d6d-e46d2232ba7b",
   "metadata": {},
   "source": [
    "### A simple CFLP\n",
    "\n",
    "The following problem data for a CFLP is taken from [Mathematical Optimization: Solving Problems using SCIP and Python](https://scipbook.readthedocs.io/en/latest/flp.html).\n",
    "\n",
    "Its so simple that one can easily derive an optimal solution by hand and we recall that one optimal solution has a total cost of ~5370.0 and uses facilities [2, 3]."
   ]
  },
  {
   "cell_type": "code",
   "execution_count": 10,
   "id": "da227678-1f15-44f3-b2e6-9a96eb8533ab",
   "metadata": {},
   "outputs": [],
   "source": [
    "# data\n",
    "demand = [80, 270, 250, 160, 180]\n",
    "capacity = [500,500,500]\n",
    "cost_fix = [1000.,1000.,1000.]\n",
    "cost_var = [4. 6. 9.; 5. 4. 7.; 6. 3. 4.; 8. 5. 3.; 10. 8. 4.]\n",
    "\n",
    "data = cflp_data(cost_fix, cost_var, capacity, demand);"
   ]
  },
  {
   "cell_type": "code",
   "execution_count": 11,
   "id": "5af82c44-c2b6-4cb6-a00b-1426f9433fe6",
   "metadata": {},
   "outputs": [
    {
     "name": "stdout",
     "output_type": "stream",
     "text": [
      "Total cost are:5610.0\n",
      "Open facilities:[2, 3]\n",
      "Assignment:\n",
      "customer   1 gets       80.000000 from facility   2\n",
      "customer   2 gets      270.000000 from facility   2\n",
      "customer   3 gets      150.000000 from facility   2\n",
      "customer   3 gets      100.000000 from facility   3\n",
      "customer   4 gets      160.000000 from facility   3\n",
      "customer   5 gets      180.000000 from facility   3\n"
     ]
    }
   ],
   "source": [
    "k = 2\n",
    "sol = SA_cflp(data, k)\n",
    "print_solution(sol)"
   ]
  },
  {
   "cell_type": "markdown",
   "id": "3ff68d37-4272-4b04-8994-b1770cee0a6b",
   "metadata": {},
   "source": [
    "### Example 2\n",
    "\n",
    "The second example is larger and we may don't want to solve by hand.\n",
    "We don't go into details of the data and just remark, that it was randomly generated to test the implementation.\n",
    "\n",
    "*We did not print all the assignment of customers to facilities* to increase readability , but if you are interested simply set `dont_print_all` to false."
   ]
  },
  {
   "cell_type": "code",
   "execution_count": 12,
   "id": "900ac2b5-4c70-4955-baa8-eca4f34fa5e5",
   "metadata": {},
   "outputs": [
    {
     "name": "stdout",
     "output_type": "stream",
     "text": [
      "Total cost are:14278.269999999999\n",
      "Open facilities:[1, 3, 5, 6, 8, 9, 10, 11, 13]\n",
      "Assignment:\n",
      "customer   1 gets       18.000000 from facility   9\n",
      "customer   2 gets       21.000000 from facility  13\n",
      "customer   3 gets       12.000000 from facility  11\n",
      "customer   4 gets       14.000000 from facility   3\n",
      "customer   5 gets       18.000000 from facility  13\n"
     ]
    }
   ],
   "source": [
    "using JLD2\n",
    "d = load(\"../data/data.jld2\")[\"data\"]\n",
    "dont_print_all = true\n",
    "data = cflp_data(d[\"cost_fix\"], d[\"cost_var\"], d[\"capacity\"], d[\"demand\"])\n",
    "\n",
    "k = 9\n",
    "example2 = SA_cflp(data, k)\n",
    "print_solution(example2, dont_print_all)"
   ]
  },
  {
   "cell_type": "markdown",
   "id": "676ab927-ef5d-4f16-b3b5-d37e5524da2c",
   "metadata": {},
   "source": [
    "We recall the optimal solution of the MILP:\n",
    " \n",
    "    Total cost are:14277.130000000001\n",
    "    Open facilities:[1, 3, 5, 6, 8, 9, 10, 11, 13]"
   ]
  },
  {
   "cell_type": "markdown",
   "id": "8a8717ef-684c-41d7-8052-089a712d2ccd",
   "metadata": {},
   "source": [
    "### Example 3\n",
    "\n",
    "We just showcase how to randomly generate data for a CFLP and solve the corresponding CFLP by our combined simulated annealing implementation."
   ]
  },
  {
   "cell_type": "code",
   "execution_count": 13,
   "id": "1ddf2736-4d93-4d50-8f15-6cc7f75fd72d",
   "metadata": {},
   "outputs": [
    {
     "name": "stdout",
     "output_type": "stream",
     "text": [
      "Total cost are:6084.43\n",
      "Open facilities:[2, 3, 4, 8]\n",
      "Assignment:\n",
      "customer   1 gets       28.000000 from facility   8\n",
      "customer   2 gets       15.000000 from facility   2\n",
      "customer   3 gets       25.000000 from facility   2\n",
      "customer   4 gets        7.000000 from facility   2\n",
      "customer   5 gets       24.000000 from facility   8\n",
      "customer   6 gets        5.000000 from facility   3\n",
      "customer   7 gets        6.000000 from facility   8\n",
      "customer   8 gets       21.000000 from facility   4\n",
      "customer   9 gets       23.000000 from facility   2\n",
      "customer  10 gets       23.000000 from facility   4\n",
      "customer  11 gets        4.000000 from facility   3\n",
      "customer  12 gets       26.000000 from facility   8\n",
      "customer  13 gets       14.000000 from facility   3\n",
      "customer  14 gets       13.000000 from facility   2\n",
      "customer  15 gets       28.000000 from facility   2\n"
     ]
    }
   ],
   "source": [
    "data = gen_data()\n",
    "k = data.m - 1\n",
    "sol = SA_cflp(data, k)\n",
    "print_solution(sol)"
   ]
  }
 ],
 "metadata": {
  "kernelspec": {
   "display_name": "Julia 1.11.1",
   "language": "julia",
   "name": "julia-1.11"
  },
  "language_info": {
   "file_extension": ".jl",
   "mimetype": "application/julia",
   "name": "julia",
   "version": "1.11.1"
  }
 },
 "nbformat": 4,
 "nbformat_minor": 5
}
