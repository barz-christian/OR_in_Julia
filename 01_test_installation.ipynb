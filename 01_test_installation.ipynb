{
 "cells": [
  {
   "cell_type": "raw",
   "id": "f9fea2b4-9028-4c0a-9b0d-40d89c2dfb54",
   "metadata": {},
   "source": [
    "---\n",
    "title: Julia setup\n",
    "jupyter: julia-1.11\n",
    "---"
   ]
  },
  {
   "cell_type": "markdown",
   "id": "77066255-ab97-40c8-a956-c2432b74263e",
   "metadata": {},
   "source": [
    "## Setup Julia\n",
    "\n",
    "1. The installation of Julia is straight forward, see [here](https://julialang.org/downloads/).\n",
    "2. (optional) Install IDE [Jupyter lab](https://jupyter.org/)\n",
    "    1. Open a console and start the Julia REPL by `julia` [^close_julia]\n",
    "```\n",
    "using Pkg\n",
    "Pkg.add(\"IJulia\")\n",
    "using IJulia\n",
    "notebook()\n",
    "```\n",
    "    2. Following the installation steps is straigthforward if you want to use [miniconda](https://docs.anaconda.com/miniconda/).\n",
    "    3. With conda install it with `conda install -c conda-forge jupyterlab`\n",
    "\n",
    "\n",
    "[close_julia]: You close the Julia REPL by control + D.\n",
    "\n",
    "## Setup Jump\n",
    "\n",
    "The following code cells install [JuMP](https://jump.dev/JuMP.jl/stable/) - which is a Julia package for mathematical optimization - and two solvers, which should run out of the box either on Windows or Linux systems. "
   ]
  },
  {
   "cell_type": "code",
   "execution_count": null,
   "id": "22c997c6-941d-431e-bd09-0c0ce5c9b677",
   "metadata": {},
   "outputs": [],
   "source": [
    "import Pkg\n",
    "Pkg.add(\"JuMP\")\n",
    "Pkg.add(\"GLPK\")\n",
    "Pkg.add(\"Ipopt\")"
   ]
  },
  {
   "cell_type": "markdown",
   "id": "c5e5810a-31b3-4903-8256-38612d2d384e",
   "metadata": {},
   "source": [
    "## Test Installation"
   ]
  },
  {
   "cell_type": "code",
   "execution_count": 2,
   "id": "b0b1f1c2-d2c7-4867-9be2-0415e6811382",
   "metadata": {},
   "outputs": [],
   "source": [
    "# import required packages\n",
    "using JuMP, Ipopt, GLPK"
   ]
  },
  {
   "cell_type": "code",
   "execution_count": 3,
   "id": "f4a70445-47b1-4b7e-b93c-df55defde04e",
   "metadata": {},
   "outputs": [
    {
     "name": "stdout",
     "output_type": "stream",
     "text": [
      "\n",
      "******************************************************************************\n",
      "This program contains Ipopt, a library for large-scale nonlinear optimization.\n",
      " Ipopt is released as open source code under the Eclipse Public License (EPL).\n",
      "         For more information visit https://github.com/coin-or/Ipopt\n",
      "******************************************************************************\n",
      "\n"
     ]
    },
    {
     "data": {
      "text/plain": [
       "3-element Vector{Float64}:\n",
       " 0.008118583847877642\n",
       " 0.3755109757446358\n",
       " 0.6163704404074866"
      ]
     },
     "execution_count": 3,
     "metadata": {},
     "output_type": "execute_result"
    }
   ],
   "source": [
    "function test_Ipopt(A::Matrix, b::Vector)\n",
    "           m, n = size(A)\n",
    "           model = Model(Ipopt.Optimizer)\n",
    "           set_silent(model)\n",
    "           @variable(model, x[1:n])\n",
    "           @variable(model, residuals[1:m])\n",
    "           @constraint(model, residuals == A * x - b)\n",
    "           @constraint(model, sum(x) == 1)\n",
    "           @objective(model, Min, sum(residuals.^2))\n",
    "           optimize!(model)\n",
    "           return value.(x)\n",
    "end\n",
    "\n",
    "\n",
    "A, b = rand(10, 3), rand(10);\n",
    "\n",
    "x = test_Ipopt(A, b)"
   ]
  },
  {
   "cell_type": "code",
   "execution_count": 4,
   "id": "c8893c3e-8aa6-4903-96ce-acf2047e5139",
   "metadata": {},
   "outputs": [
    {
     "data": {
      "text/plain": [
       "(15.000000000000005, 1.249999999999996)"
      ]
     },
     "execution_count": 4,
     "metadata": {},
     "output_type": "execute_result"
    }
   ],
   "source": [
    "function test_GLPK()\n",
    "    model = Model(GLPK.Optimizer)\n",
    "    @variable(model, x >= 0)\n",
    "    @variable(model, 0 <= y <= 3)\n",
    "    @objective(model, Min, 12x + 20y)\n",
    "    @constraint(model, c1, 6x + 8y >= 100)\n",
    "    @constraint(model, c2, 7x + 12y >= 120)\n",
    "    optimize!(model)\n",
    "    return value.(x), value.(y)\n",
    "end\n",
    "test_GLPK()"
   ]
  },
  {
   "cell_type": "markdown",
   "id": "6aeff245-5110-4770-adf3-36220f79cea4",
   "metadata": {},
   "source": [
    "## Install addditional packages"
   ]
  },
  {
   "cell_type": "code",
   "execution_count": null,
   "id": "cf6955e8-95e5-4138-a061-d47cc70fe68a",
   "metadata": {},
   "outputs": [],
   "source": [
    "Pkg.add(\"JLD2\")"
   ]
  }
 ],
 "metadata": {
  "kernelspec": {
   "display_name": "Julia 1.11.1",
   "language": "julia",
   "name": "julia-1.11"
  },
  "language_info": {
   "file_extension": ".jl",
   "mimetype": "application/julia",
   "name": "julia",
   "version": "1.11.1"
  }
 },
 "nbformat": 4,
 "nbformat_minor": 5
}
